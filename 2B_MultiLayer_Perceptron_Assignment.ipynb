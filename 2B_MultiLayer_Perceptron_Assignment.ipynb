{
 "cells": [
  {
   "cell_type": "markdown",
   "id": "d3543905",
   "metadata": {},
   "source": [
    "# PyTorch Assignment: Multi-Layer Perceptron (MLP)\n",
    "\n",
    "**[Duke Community Standard](http://integrity.duke.edu/standard.html): By typing your name below, you are certifying that you have adhered to the Duke Community Standard in completing this assignment.**\n",
    "\n",
    "Name: Natalie Chai\n",
    "\n",
    "### Multi-Layer Perceptrons\n",
    "\n",
    "The simple logistic regression example we went over in the previous notebook is essentially a one-layer neural network, projecting straight from the input to the output predictions.\n",
    "While this can be effective for linearly separable data, occasionally a little more complexity is necessary.\n",
    "Neural networks with additional layers are typically able to learn more complex functions, leading to better performance.\n",
    "These additional layers (called \"hidden\" layers) transform the input into one or more intermediate representations before making a final prediction.\n",
    "\n",
    "In the logistic regression example, the way we performed the transformation was with a fully-connected layer, which consisted of a linear transform (matrix multiply plus a bias).\n",
    "A neural network consisting of multiple successive fully-connected layers is commonly called a Multi-Layer Perceptron (MLP). \n",
    "In the simple MLP below, a 4-d input is projected to a 5-d hidden representation, which is then projected to a single output that is used to make the final prediction.\n",
    "\n",
    "<center>\n",
    "    <img src=\"Figures/MLP.png\" width=\"300\"/>\n",
    "</center>\n",
    "\n",
    "For the assignment, you will be building a MLP for MNIST.\n",
    "Mechanically, this is done very similary to our logistic regression example, but instead of going straight to a 10-d vector representing our output predictions, we might first transform to a 500-d vector with a \"hidden\" layer, then to the output of dimension 10.\n",
    "Before you do so, however, there's one more important thing to consider.\n",
    "\n",
    "### Nonlinearities\n",
    "\n",
    "We typically include nonlinearities between layers of a neural network.\n",
    "There's a number of reasons to do so.\n",
    "For one, without anything nonlinear between them, successive linear transforms (fully connected layers) collapse into a single linear transform, which means the model isn't any more expressive than a single layer.\n",
    "On the other hand, intermediate nonlinearities prevent this collapse, allowing neural networks to approximate more complex functions.\n",
    "\n",
    "There are a number of nonlinearities commonly used in neural networks, but one of the most popular is the [rectified linear unit (ReLU)](https://en.wikipedia.org/wiki/Rectifier_(neural_networks)):\n",
    "\n",
    "\\begin{align}\n",
    "x = \\max(0,x)\n",
    "\\end{align}\n",
    "\n",
    "There are a number of ways to implement this in PyTorch.\n",
    "We could do it with elementary PyTorch operations:"
   ]
  },
  {
   "cell_type": "code",
   "execution_count": 1,
   "id": "66c9cd83",
   "metadata": {},
   "outputs": [
    {
     "name": "stdout",
     "output_type": "stream",
     "text": [
      "x: tensor([[ 0.1118,  0.5887,  0.6623],\n",
      "        [-0.7509,  0.1526, -0.9066],\n",
      "        [-0.6129, -0.5254, -0.1173],\n",
      "        [-0.2582,  0.4956, -0.3517],\n",
      "        [-0.4038, -0.6516, -0.1544]])\n",
      "x after ReLU with max: tensor([[0.1118, 0.5887, 0.6623],\n",
      "        [0.0000, 0.1526, 0.0000],\n",
      "        [0.0000, 0.0000, 0.0000],\n",
      "        [0.0000, 0.4956, 0.0000],\n",
      "        [0.0000, 0.0000, 0.0000]])\n"
     ]
    }
   ],
   "source": [
    "import torch\n",
    "\n",
    "x = torch.rand(5, 3)*2 - 1\n",
    "x_relu_max = torch.max(torch.zeros_like(x),x)\n",
    "\n",
    "print(\"x: {}\".format(x))\n",
    "print(\"x after ReLU with max: {}\".format(x_relu_max))"
   ]
  },
  {
   "cell_type": "markdown",
   "id": "3e07a7ee",
   "metadata": {},
   "source": [
    "Of course, PyTorch also has the ReLU implemented, for example in `torch.nn.functional`:"
   ]
  },
  {
   "cell_type": "code",
   "execution_count": 2,
   "id": "21305922",
   "metadata": {},
   "outputs": [
    {
     "name": "stdout",
     "output_type": "stream",
     "text": [
      "x after ReLU with nn.functional: tensor([[0.1118, 0.5887, 0.6623],\n",
      "        [0.0000, 0.1526, 0.0000],\n",
      "        [0.0000, 0.0000, 0.0000],\n",
      "        [0.0000, 0.4956, 0.0000],\n",
      "        [0.0000, 0.0000, 0.0000]])\n"
     ]
    }
   ],
   "source": [
    "import torch.nn.functional as F\n",
    "\n",
    "x_relu_F = F.relu(x)\n",
    "\n",
    "print(\"x after ReLU with nn.functional: {}\".format(x_relu_F))"
   ]
  },
  {
   "cell_type": "markdown",
   "id": "0c41d227",
   "metadata": {},
   "source": [
    "### Assignment\n",
    "\n",
    "Build a 2-layer MLP for MNIST digit classfication. Feel free to play around with the model architecture and see how the training time/performance changes, but to begin, try the following:\n",
    "\n",
    "Image (784 dimensions) ->  \n",
    "fully connected layer (500 hidden units) -> nonlinearity (ReLU) ->  \n",
    "fully connected (10 hidden units) -> softmax\n",
    "\n",
    "Try building the model both with basic PyTorch operations, and then again with more object-oriented higher-level APIs. \n",
    "You should get similar results!\n",
    "\n",
    "\n",
    "*Some hints*:\n",
    "- Even as we add additional layers, we still only require a single optimizer to learn the parameters.\n",
    "Just make sure to pass all parameters to it!\n",
    "- As you'll calculate in the Short Answer, this MLP model has many more parameters than the logisitic regression example, which makes it more challenging to learn.\n",
    "To get the best performance, you may want to play with the learning rate and increase the number of training epochs.\n",
    "- Be careful using `torch.nn.CrossEntropyLoss()`. \n",
    "If you look at the [PyTorch documentation](https://pytorch.org/docs/stable/nn.html#crossentropyloss): you'll see that `torch.nn.CrossEntropyLoss()` combines the softmax operation with the cross-entropy.\n",
    "This means you need to pass in the logits (predictions pre-softmax) to this loss.\n",
    "Computing the softmax separately and feeding the result into `torch.nn.CrossEntropyLoss()` will significantly degrade your model's performance!"
   ]
  },
  {
   "cell_type": "code",
   "execution_count": 7,
   "id": "35c7be2d",
   "metadata": {},
   "outputs": [
    {
     "data": {
      "application/vnd.jupyter.widget-view+json": {
       "model_id": "c1668db4deac4ed388dc49c480c534e1",
       "version_major": 2,
       "version_minor": 0
      },
      "text/plain": [
       "Manual Epoch 1/10:   0%|          | 0/600 [00:00<?, ?it/s]"
      ]
     },
     "metadata": {},
     "output_type": "display_data"
    },
    {
     "name": "stdout",
     "output_type": "stream",
     "text": [
      "Manual Epoch 1 Loss: 0.3257\n"
     ]
    },
    {
     "data": {
      "application/vnd.jupyter.widget-view+json": {
       "model_id": "945da64f6d4c4a7b9f1f7921a31ddfc5",
       "version_major": 2,
       "version_minor": 0
      },
      "text/plain": [
       "Manual Epoch 2/10:   0%|          | 0/600 [00:00<?, ?it/s]"
      ]
     },
     "metadata": {},
     "output_type": "display_data"
    },
    {
     "name": "stdout",
     "output_type": "stream",
     "text": [
      "Manual Epoch 2 Loss: 0.1604\n"
     ]
    },
    {
     "data": {
      "application/vnd.jupyter.widget-view+json": {
       "model_id": "b7df384ff0e5489784aa768b139bb2cd",
       "version_major": 2,
       "version_minor": 0
      },
      "text/plain": [
       "Manual Epoch 3/10:   0%|          | 0/600 [00:00<?, ?it/s]"
      ]
     },
     "metadata": {},
     "output_type": "display_data"
    },
    {
     "name": "stdout",
     "output_type": "stream",
     "text": [
      "Manual Epoch 3 Loss: 0.1162\n"
     ]
    },
    {
     "data": {
      "application/vnd.jupyter.widget-view+json": {
       "model_id": "8c11878426e44ddeb3af3b3db0c71914",
       "version_major": 2,
       "version_minor": 0
      },
      "text/plain": [
       "Manual Epoch 4/10:   0%|          | 0/600 [00:00<?, ?it/s]"
      ]
     },
     "metadata": {},
     "output_type": "display_data"
    },
    {
     "name": "stdout",
     "output_type": "stream",
     "text": [
      "Manual Epoch 4 Loss: 0.0912\n"
     ]
    },
    {
     "data": {
      "application/vnd.jupyter.widget-view+json": {
       "model_id": "265e0ddc4ced4518b5467e37473c509d",
       "version_major": 2,
       "version_minor": 0
      },
      "text/plain": [
       "Manual Epoch 5/10:   0%|          | 0/600 [00:00<?, ?it/s]"
      ]
     },
     "metadata": {},
     "output_type": "display_data"
    },
    {
     "name": "stdout",
     "output_type": "stream",
     "text": [
      "Manual Epoch 5 Loss: 0.0741\n"
     ]
    },
    {
     "data": {
      "application/vnd.jupyter.widget-view+json": {
       "model_id": "1580e5295d7044c18f97cf91635e2c75",
       "version_major": 2,
       "version_minor": 0
      },
      "text/plain": [
       "Manual Epoch 6/10:   0%|          | 0/600 [00:00<?, ?it/s]"
      ]
     },
     "metadata": {},
     "output_type": "display_data"
    },
    {
     "name": "stdout",
     "output_type": "stream",
     "text": [
      "Manual Epoch 6 Loss: 0.0617\n"
     ]
    },
    {
     "data": {
      "application/vnd.jupyter.widget-view+json": {
       "model_id": "828a5230e8634c189c6dc9149e3c10ba",
       "version_major": 2,
       "version_minor": 0
      },
      "text/plain": [
       "Manual Epoch 7/10:   0%|          | 0/600 [00:00<?, ?it/s]"
      ]
     },
     "metadata": {},
     "output_type": "display_data"
    },
    {
     "name": "stdout",
     "output_type": "stream",
     "text": [
      "Manual Epoch 7 Loss: 0.0529\n"
     ]
    },
    {
     "data": {
      "application/vnd.jupyter.widget-view+json": {
       "model_id": "029a795d3d7d476096ac978c98f73b7f",
       "version_major": 2,
       "version_minor": 0
      },
      "text/plain": [
       "Manual Epoch 8/10:   0%|          | 0/600 [00:00<?, ?it/s]"
      ]
     },
     "metadata": {},
     "output_type": "display_data"
    },
    {
     "name": "stdout",
     "output_type": "stream",
     "text": [
      "Manual Epoch 8 Loss: 0.0453\n"
     ]
    },
    {
     "data": {
      "application/vnd.jupyter.widget-view+json": {
       "model_id": "100f1ae1517343079345907c453d0f86",
       "version_major": 2,
       "version_minor": 0
      },
      "text/plain": [
       "Manual Epoch 9/10:   0%|          | 0/600 [00:00<?, ?it/s]"
      ]
     },
     "metadata": {},
     "output_type": "display_data"
    },
    {
     "name": "stdout",
     "output_type": "stream",
     "text": [
      "Manual Epoch 9 Loss: 0.0393\n"
     ]
    },
    {
     "data": {
      "application/vnd.jupyter.widget-view+json": {
       "model_id": "fb7e18d957a94f9c9345a31f4b633129",
       "version_major": 2,
       "version_minor": 0
      },
      "text/plain": [
       "Manual Epoch 10/10:   0%|          | 0/600 [00:00<?, ?it/s]"
      ]
     },
     "metadata": {},
     "output_type": "display_data"
    },
    {
     "name": "stdout",
     "output_type": "stream",
     "text": [
      "Manual Epoch 10 Loss: 0.0340\n"
     ]
    },
    {
     "data": {
      "application/vnd.jupyter.widget-view+json": {
       "model_id": "2e54733365d94d91b5a508576a7cb537",
       "version_major": 2,
       "version_minor": 0
      },
      "text/plain": [
       "  0%|          | 0/100 [00:00<?, ?it/s]"
      ]
     },
     "metadata": {},
     "output_type": "display_data"
    },
    {
     "name": "stdout",
     "output_type": "stream",
     "text": [
      "MLP Test Accuracy: 0.9796\n"
     ]
    }
   ],
   "source": [
    "import numpy as np\n",
    "import torch\n",
    "import torch.nn as nn\n",
    "import torch.nn.functional as F\n",
    "from torchvision import datasets, transforms\n",
    "from tqdm.notebook import tqdm\n",
    "\n",
    "# Load the data\n",
    "mnist_train = datasets.MNIST(root=\"./datasets\", train=True, transform=transforms.ToTensor(), download=True)\n",
    "mnist_test = datasets.MNIST(root=\"./datasets\", train=False, transform=transforms.ToTensor(), download=True)\n",
    "train_loader = torch.utils.data.DataLoader(mnist_train, batch_size=100, shuffle=True)\n",
    "test_loader = torch.utils.data.DataLoader(mnist_test, batch_size=100, shuffle=False)\n",
    "\n",
    "# Common Training Parameters \n",
    "num_epochs = 10 # Increased epochs for better performance on MLP\n",
    "learning_rate = 0.2 # Adjusted learning rate, feel free to experiment\n",
    "\n",
    "class MNIST_MLP(nn.Module):\n",
    "    def __init__(self):\n",
    "        super().__init__()\n",
    "        # Using Kaiming Uniform initialization heuristic (approx. sqrt(2/fan_in)) for ReLU\n",
    "        self.W1 = nn.Parameter(torch.randn(784, 500) * np.sqrt(2./784))\n",
    "        self.b1 = nn.Parameter(torch.zeros(500))\n",
    "\n",
    "        self.W2 = nn.Parameter(torch.randn(500, 10) * np.sqrt(2./500))\n",
    "        self.b2 = nn.Parameter(torch.zeros(10))\n",
    "\n",
    "    def forward(self, x):\n",
    "        # Reshape input to (batch_size, 784)\n",
    "        x = x.view(-1, 28*28)\n",
    "\n",
    "        # First fully connected layer + ReLU activation\n",
    "        # Manual matrix multiplication: input @ weight + bias\n",
    "        hidden_output = x @ self.W1 + self.b1\n",
    "        hidden_output_relu = F.relu(hidden_output) # ReLU non-linearity\n",
    "\n",
    "        # Second fully connected layer (output logits)\n",
    "        logits = hidden_output_relu @ self.W2 + self.b2\n",
    "        return logits\n",
    "\n",
    "## Training\n",
    "model = MNIST_MLP()\n",
    "criterion = nn.CrossEntropyLoss() # Combines LogSoftmax and NLLLoss\n",
    "optimizer = torch.optim.SGD(model.parameters(), lr=learning_rate)\n",
    "\n",
    "# Iterate through epochs\n",
    "for epoch in range(num_epochs):\n",
    "    model.train() # Set model to training mode\n",
    "    running_loss = 0.0\n",
    "    # Iterate through train set batches\n",
    "    for images, labels in tqdm(train_loader, desc=f\"Manual Epoch {epoch+1}/{num_epochs}\"):\n",
    "        # Zero out gradients\n",
    "        optimizer.zero_grad() \n",
    "        \n",
    "        # Forward pass\n",
    "        y_pred = model(images) \n",
    "        loss = criterion(y_pred, labels) # Calculate loss\n",
    "        \n",
    "        # Backward pass (compute gradients)\n",
    "        loss.backward() \n",
    "        optimizer.step() # Update weights\n",
    "        \n",
    "        running_loss += loss.item() * images.size(0)\n",
    "    \n",
    "    epoch_loss = running_loss / len(train_loader.dataset)\n",
    "    print(f\"Manual Epoch {epoch+1} Loss: {epoch_loss:.4f}\")\n",
    "\n",
    "## Testing\n",
    "model.eval() # Set model to evaluation mode\n",
    "correct = 0\n",
    "total = len(mnist_test)\n",
    "\n",
    "with torch.no_grad(): # Disable gradient calculation for inference\n",
    "    # Iterate through test set batches\n",
    "    for images, labels in tqdm(test_loader):\n",
    "        x = images.view(-1, 28*28) # Reshape input\n",
    "        y_pred = model(x) # Forward pass\n",
    "        \n",
    "        predictions = torch.argmax(y_pred, dim=1) # Get predicted class\n",
    "        correct += torch.sum((predictions == labels).float()) # Count correct predictions\n",
    "\n",
    "print('MLP Test Accuracy: {:.4f}'.format(correct/total))"
   ]
  },
  {
   "cell_type": "markdown",
   "id": "fb059dec",
   "metadata": {},
   "source": [
    "### Short answer\n",
    "How many trainable parameters does your model have? \n",
    "How does this compare to the logisitic regression example?"
   ]
  },
  {
   "cell_type": "markdown",
   "id": "cec03d43",
   "metadata": {},
   "source": [
    "`2. MLP performs better as compared to logistic regression, with lower lost and highest performance.`"
   ]
  }
 ],
 "metadata": {
  "kernelspec": {
   "display_name": "pytorch",
   "language": "python",
   "name": "python3"
  },
  "language_info": {
   "codemirror_mode": {
    "name": "ipython",
    "version": 3
   },
   "file_extension": ".py",
   "mimetype": "text/x-python",
   "name": "python",
   "nbconvert_exporter": "python",
   "pygments_lexer": "ipython3",
   "version": "3.10.18"
  }
 },
 "nbformat": 4,
 "nbformat_minor": 5
}
